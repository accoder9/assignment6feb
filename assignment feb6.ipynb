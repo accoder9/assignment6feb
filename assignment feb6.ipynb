{
 "cells": [
  {
   "cell_type": "markdown",
   "id": "4b196830-75ba-4dcf-b135-502b48045081",
   "metadata": {},
   "source": [
    "Q1. Create a function which will take a list as an argument and return the product of all the numbers\n",
    "after creating a flat list.\n",
    "Use the below-given list as an argument for your function.\n",
    "list1 = [1,2,3,4, [44,55,66, True], False, (34,56,78,89,34), {1,2,3,3,2,1}, {1:34, \"key2\": [55, 67, 78, 89], 4: (45,\n",
    "22, 61, 34)}, [56, 'data science'], 'Machine Learning']"
   ]
  },
  {
   "cell_type": "code",
   "execution_count": 1,
   "id": "e0b63100-665a-4b32-9b6b-9298ad29bb16",
   "metadata": {},
   "outputs": [],
   "source": [
    "list1 = [1,2,3,4, [44,55,66, True], False, (34,56,78,89,34), {1,2,3,3,2,1}, {1:34, \"key2\": [55, 67, 78, 89], 4: (45,\n",
    "22, 61, 34)}, [56, 'data science'], 'Machine Learning']\n",
    "\n",
    "                    \n",
    "        \n"
   ]
  },
  {
   "cell_type": "code",
   "execution_count": 2,
   "id": "a1776d87-9c49-40c3-a8ad-46819a16f684",
   "metadata": {},
   "outputs": [],
   "source": [
    "def func(n):\n",
    "    l=[]\n",
    "    s=1\n",
    "    for i in n:\n",
    "        if type (i) ==list:\n",
    "            for j in i:\n",
    "                if type(j)==int:\n",
    "                    l.append(j)\n",
    "        elif type(i)==dict:\n",
    "            for q in (i.keys()):\n",
    "                if type(q)==int:\n",
    "                    l.append(q)\n",
    "            for w in (i.values()):\n",
    "                if type(w)==(list):\n",
    "                    for v in w:\n",
    "                        if type(v)==int:\n",
    "                            l.append(v)\n",
    "                if type (w)==tuple:\n",
    "                    for x in w:\n",
    "                        if type(x)==int:\n",
    "                            l.append(x)\n",
    "                elif type (w)==int:\n",
    "                    l.append(w)\n",
    "        elif type(i)==tuple:\n",
    "            for p in i:\n",
    "                if type(p)==int:\n",
    "                    l.append(p)\n",
    "        elif type(i)==set:\n",
    "            for e in i:\n",
    "                if type(e)==int:\n",
    "                    l.append(e)\n",
    "        elif type(i)==int:\n",
    "            l.append(i)\n",
    "    print (l)\n",
    "    for z in l:\n",
    "        s=s*z\n",
    "    print(s)    \n",
    "    \n",
    "    \n",
    "\n"
   ]
  },
  {
   "cell_type": "code",
   "execution_count": 3,
   "id": "4ba76769-0df2-4312-9f24-76ce659228cf",
   "metadata": {},
   "outputs": [
    {
     "name": "stdout",
     "output_type": "stream",
     "text": [
      "[1, 2, 3, 4, 44, 55, 66, 34, 56, 78, 89, 34, 1, 2, 3, 1, 4, 34, 55, 67, 78, 89, 45, 22, 61, 34, 56]\n",
      "4134711838987085478833841242112000\n"
     ]
    }
   ],
   "source": [
    "m=func(list1)"
   ]
  },
  {
   "cell_type": "markdown",
   "id": "2b929789-c61e-4fdc-a909-ddf1f4d798e0",
   "metadata": {},
   "source": [
    "Q2. Write a python program for encrypting a message sent to you by your friend. The logic of encryption\n",
    "should be such that, for a the output should be z. For b, the output should be y. For c, the output should\n",
    "be x respectively. Also, the whitespace should be replaced with a dollar sign. Keep the punctuation\n",
    "marks unchanged.\n",
    "Input Sentence: I want to become a Data Scientist.\n",
    "Encrypt the above input sentence using the program you just created.\n",
    "Note: Convert the given input sentence into lowercase before encrypting. The final output should be\n",
    "lowercase."
   ]
  },
  {
   "cell_type": "code",
   "execution_count": 44,
   "id": "3da7882d-7ee4-4a5a-8312-4cd39a5325e1",
   "metadata": {},
   "outputs": [
    {
     "name": "stdin",
     "output_type": "stream",
     "text": [
      " I want to become a Data Scientist.\n"
     ]
    },
    {
     "name": "stdout",
     "output_type": "stream",
     "text": [
      "r$dzmg$gl$yvxlnv$z$wzgz$hxrvmgrhg."
     ]
    }
   ],
   "source": [
    "a= input()\n",
    "b=a.lower()\n",
    "c=str(b)\n",
    "d=[]\n",
    "Letters ='abcdefghijklmnopqrstuvwxyz'\n",
    "for i in c:\n",
    "    if i in Letters:\n",
    "        j=Letters[-Letters.index(i)-1]\n",
    "        d.append(j)\n",
    "    elif i == \" \":\n",
    "        d.append(\"$\")\n",
    "    elif i ==\".\":\n",
    "        d.append(\".\")\n",
    "for i in d:\n",
    "    print(i,end=\"\")\n",
    "      \n",
    "        \n",
    "    \n",
    "    "
   ]
  },
  {
   "cell_type": "code",
   "execution_count": null,
   "id": "6ece3895-d2f9-4244-92d6-2f3a93ec0698",
   "metadata": {},
   "outputs": [],
   "source": []
  },
  {
   "cell_type": "code",
   "execution_count": null,
   "id": "f9143dc3-a977-4942-885d-0935e4b00bcf",
   "metadata": {},
   "outputs": [],
   "source": []
  },
  {
   "cell_type": "code",
   "execution_count": null,
   "id": "c0bf1f5d-61b7-46be-b4d0-c7e3d36d9e50",
   "metadata": {},
   "outputs": [],
   "source": []
  }
 ],
 "metadata": {
  "kernelspec": {
   "display_name": "Python 3 (ipykernel)",
   "language": "python",
   "name": "python3"
  },
  "language_info": {
   "codemirror_mode": {
    "name": "ipython",
    "version": 3
   },
   "file_extension": ".py",
   "mimetype": "text/x-python",
   "name": "python",
   "nbconvert_exporter": "python",
   "pygments_lexer": "ipython3",
   "version": "3.10.8"
  }
 },
 "nbformat": 4,
 "nbformat_minor": 5
}
